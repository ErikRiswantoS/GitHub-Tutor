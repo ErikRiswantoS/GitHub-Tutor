{
 "cells": [
  {
   "cell_type": "code",
   "execution_count": 1,
   "id": "811da741",
   "metadata": {},
   "outputs": [
    {
     "name": "stdout",
     "output_type": "stream",
     "text": [
      "masukan usia: 8\n",
      "masukan tinggi: 80\n",
      "untuk usia 8 tahun dengan tinggi 80 cm dengan harga tiket rp. 50.000\n"
     ]
    }
   ],
   "source": [
    "# perulangan Dan pengondisian bersama saya erik riswanto saputra\n",
    "usia = int(input(\"masukan usia: \"))\n",
    "tinggi = int(input(\"masukan tinggi: \"))\n",
    "\n",
    "if usia < 2:\n",
    "    print(\"dilarang masuk\")\n",
    "elif usia < 4:\n",
    "    if (tinggi <= 70):\n",
    "        print(\"untuk usia\",usia,\"tahun dengan tinggi\",tinggi,\"cm dengan harga tiket rp. 30.000\")\n",
    "    else: \n",
    "        print(\"untuk usia\",usia,\"tahun dengan tinggi\",tinggi,\"cm dengan harga tiket rp.\",30000 + 10000)\n",
    "elif usia < 7:\n",
    "    if (tinggi <=120):\n",
    "        print(\"untuk usia\",usia,\"tahun dengan tinggi\",tinggi,\"cm dengan harga tiket rp. 40.000\")\n",
    "    else:\n",
    "        print(\"untuk usia\",usia,\"tahun dengan tinggi\",tinggi,\"cm dengan harga tiket rp.\",40000 + 15000)\n",
    "elif usia < 10:\n",
    "    if (tinggi <= 150):\n",
    "        print(\"untuk usia\",usia,\"tahun dengan tinggi\",tinggi,\"cm dengan harga tiket rp. 50.000\")\n",
    "    else:\n",
    "        print(\"untuk usia\",usia,\"tahun dengan tinggi\",tinggi,\"cm dengan harga tiket rp.\",50000 + 20000)\n",
    "else:\n",
    "    if (usia >= 10):\n",
    "        print(\"untuk usia\",usia,\"tahun dengan tinggi\",tinggi,\"cm dengan harga tiket rp. 80.000\")"
   ]
  },
  {
   "cell_type": "code",
   "execution_count": 2,
   "id": "a881564b",
   "metadata": {},
   "outputs": [
    {
     "name": "stdout",
     "output_type": "stream",
     "text": [
      "Apakah kamu melakukan olahraga lari?  ya\n",
      "Berapa menit? 80\n",
      "Apakah kamu melakukan olahraga push-up?ya\n",
      "Berapa menit? 70\n",
      "Apakah kamu melakukan olahraga plank?ya\n",
      "Berapa menit? 10\n",
      "\n",
      "Kalori yang terbakar dari tubuhmu adalah 1476 kalori\n"
     ]
    }
   ],
   "source": [
    "kalori = 0\n",
    "\n",
    "lari = input(\"Apakah kamu melakukan olahraga lari?  \")\n",
    "if (lari == \"ya\"):\n",
    "    menit = int(input(\"Berapa menit? \"))\n",
    "    kalori += menit * (60 / 5)\n",
    "\n",
    "pushUp = input(\"Apakah kamu melakukan olahraga push-up?\")\n",
    "if (pushUp == \"ya\"):\n",
    "    menit = int(input(\"Berapa menit? \"))\n",
    "    kalori += menit * (200 / 30)\n",
    "    \n",
    "plank = input(\"Apakah kamu melakukan olahraga plank?\")\n",
    "if (plank == \"ya\"):\n",
    "    menit = int(input(\"Berapa menit? \"))\n",
    "    kalori += menit * 5\n",
    "\n",
    "kalori = int(kalori)\n",
    "\n",
    "if (kalori > 0):\n",
    "    print(f\"\\nKalori yang terbakar dari tubuhmu adalah {kalori} kalori\")\n",
    "else:\n",
    "    print(\"\\nTidak ada kalori yang terbakar, kamu tidak berolahraga :\")"
   ]
  },
  {
   "cell_type": "code",
   "execution_count": null,
   "id": "7cd716b1",
   "metadata": {},
   "outputs": [],
   "source": []
  }
 ],
 "metadata": {
  "kernelspec": {
   "display_name": "Python 3 (ipykernel)",
   "language": "python",
   "name": "python3"
  },
  "language_info": {
   "codemirror_mode": {
    "name": "ipython",
    "version": 3
   },
   "file_extension": ".py",
   "mimetype": "text/x-python",
   "name": "python",
   "nbconvert_exporter": "python",
   "pygments_lexer": "ipython3",
   "version": "3.9.13"
  }
 },
 "nbformat": 4,
 "nbformat_minor": 5
}
